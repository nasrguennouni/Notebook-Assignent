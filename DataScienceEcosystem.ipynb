{
 "cells": [
  {
   "cell_type": "markdown",
   "id": "2e31a7c7-9e17-42c3-a273-8fd9d8dac078",
   "metadata": {},
   "source": [
    "# Data Science Tools and Ecosystem"
   ]
  },
  {
   "cell_type": "markdown",
   "id": "7382280f-9573-44cc-a74a-78a578f089e2",
   "metadata": {
    "jp-MarkdownHeadingCollapsed": true,
    "tags": []
   },
   "source": [
    " In this notebook, Data Science Tools and Ecosystem are summarized."
   ]
  },
  {
   "cell_type": "markdown",
   "id": "47b23ae9-d1be-48c1-84a7-66399d64c1a1",
   "metadata": {},
   "source": [
    "__Objectives:__\n",
    "* Getting familiar with Jupyter Notebooks \n",
    "* Using markdown cells\n",
    "* Using code cells"
   ]
  },
  {
   "cell_type": "markdown",
   "id": "8b2f1322-c721-4f7d-aadf-a32f9c97604e",
   "metadata": {},
   "source": [
    "Some of the popular languages that Data Scientists use are:\n",
    "1. Python\n",
    "2. R\n",
    "3. SQL\n"
   ]
  },
  {
   "cell_type": "markdown",
   "id": "33d3df88-65d1-40d8-974b-74cd979ee3b6",
   "metadata": {},
   "source": [
    "Some of the commonly used libraries used by Data Scientists include:\n",
    "1. NumPY\n",
    "2. Scikit-learn\n",
    "3. Pandas"
   ]
  },
  {
   "cell_type": "markdown",
   "id": "4ee11615-9d5e-46c3-9cff-89304d5ce379",
   "metadata": {},
   "source": [
    "| Data Science Tools | \n",
    "| -------------|\n",
    "| Jupyter Notebooks |\n",
    "| Pytorch | \n",
    "| MLFlow | "
   ]
  },
  {
   "cell_type": "markdown",
   "id": "c4a2ea11-c20f-4c90-9e2a-88dd4630a3db",
   "metadata": {
    "tags": []
   },
   "source": [
    "### Below are a few examples of evaluating arithmetic expressions in Python"
   ]
  },
  {
   "cell_type": "code",
   "execution_count": 2,
   "id": "eb359da1-ff6f-413f-9bdc-e12a72377481",
   "metadata": {
    "tags": []
   },
   "outputs": [
    {
     "data": {
      "text/plain": [
       "17"
      ]
     },
     "execution_count": 2,
     "metadata": {},
     "output_type": "execute_result"
    }
   ],
   "source": [
    "#This a simple arithmetic expression to mutiply then add integers\n",
    "(3*4)+5"
   ]
  },
  {
   "cell_type": "code",
   "execution_count": 3,
   "id": "6a3a2fb5-9f8b-4520-818b-c5bddac39f2c",
   "metadata": {
    "tags": []
   },
   "outputs": [
    {
     "data": {
      "text/plain": [
       "33.333333333333336"
      ]
     },
     "execution_count": 3,
     "metadata": {},
     "output_type": "execute_result"
    }
   ],
   "source": [
    "#This will convert 200 minutes to hours by diving by 60\n",
    "200/6"
   ]
  },
  {
   "cell_type": "markdown",
   "id": "7e7e0871-a567-48a3-a4ba-c565be8db188",
   "metadata": {},
   "source": [
    "## Author \n",
    "Nasr"
   ]
  },
  {
   "cell_type": "code",
   "execution_count": null,
   "id": "ddeed0b3-8422-4e87-ac7d-24a195b33233",
   "metadata": {},
   "outputs": [],
   "source": []
  }
 ],
 "metadata": {
  "kernelspec": {
   "display_name": "Python",
   "language": "python",
   "name": "conda-env-python-py"
  },
  "language_info": {
   "codemirror_mode": {
    "name": "ipython",
    "version": 3
   },
   "file_extension": ".py",
   "mimetype": "text/x-python",
   "name": "python",
   "nbconvert_exporter": "python",
   "pygments_lexer": "ipython3",
   "version": "3.7.12"
  }
 },
 "nbformat": 4,
 "nbformat_minor": 5
}
